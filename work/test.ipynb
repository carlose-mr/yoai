{
 "cells": [
  {
   "cell_type": "code",
   "execution_count": 1,
   "id": "04b91431-badc-4d36-9160-01f83c741236",
   "metadata": {},
   "outputs": [
    {
     "name": "stdout",
     "output_type": "stream",
     "text": [
      "Hola Cracks!\n"
     ]
    }
   ],
   "source": [
    "print(\"Hola Cracks!\")"
   ]
  },
  {
   "cell_type": "code",
   "execution_count": null,
   "id": "a94b77aa-5ce3-4574-9926-063b9e5e133a",
   "metadata": {},
   "outputs": [],
   "source": []
  }
 ],
 "metadata": {
  "kernelspec": {
   "display_name": "Python 3 (ipykernel)",
   "language": "python",
   "name": "python3"
  },
  "language_info": {
   "codemirror_mode": {
    "name": "ipython",
    "version": 3
   },
   "file_extension": ".py",
   "mimetype": "text/x-python",
   "name": "python",
   "nbconvert_exporter": "python",
   "pygments_lexer": "ipython3",
   "version": "3.12.9"
  }
 },
 "nbformat": 4,
 "nbformat_minor": 5
}
